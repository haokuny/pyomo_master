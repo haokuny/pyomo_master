{
 "cells": [
  {
   "cell_type": "code",
   "execution_count": 1,
   "metadata": {},
   "outputs": [],
   "source": [
    "from pyomo.environ import *\n",
    "from stochastic.lp_model import LPModel"
   ]
  },
  {
   "cell_type": "code",
   "execution_count": 2,
   "metadata": {},
   "outputs": [],
   "source": [
    "m = LPModel()"
   ]
  },
  {
   "cell_type": "code",
   "execution_count": 3,
   "metadata": {},
   "outputs": [],
   "source": [
    "m1 = m.build([10, 8])"
   ]
  },
  {
   "cell_type": "code",
   "execution_count": 4,
   "metadata": {},
   "outputs": [],
   "source": [
    "m2 = m.build([4, 5])"
   ]
  },
  {
   "cell_type": "code",
   "execution_count": 5,
   "metadata": {},
   "outputs": [],
   "source": [
    "lp = SolverFactory(\"cbc\")"
   ]
  },
  {
   "cell_type": "code",
   "execution_count": 6,
   "metadata": {},
   "outputs": [
    {
     "data": {
      "text/plain": [
       "{'Problem': [{'Name': 'unknown', 'Lower bound': 13.5, 'Upper bound': 13.5, 'Number of objectives': 1, 'Number of constraints': 3, 'Number of variables': 3, 'Number of nonzeros': 2, 'Sense': 'minimize'}], 'Solver': [{'Status': 'ok', 'User time': -1.0, 'System time': 0.0, 'Wallclock time': 0.0, 'Termination condition': 'optimal', 'Termination message': 'Model was solved to optimality (subject to tolerances), and an optimal solution is available.', 'Statistics': {'Branch and bound': {'Number of bounded subproblems': None, 'Number of created subproblems': None}, 'Black box': {'Number of iterations': 2}}, 'Error rc': 0, 'Time': 0.04297685623168945}], 'Solution': [OrderedDict([('number of solutions', 0), ('number of solutions displayed', 0)])]}"
      ]
     },
     "execution_count": 6,
     "metadata": {},
     "output_type": "execute_result"
    }
   ],
   "source": [
    "lp.solve(m1)"
   ]
  },
  {
   "cell_type": "code",
   "execution_count": 7,
   "metadata": {},
   "outputs": [
    {
     "data": {
      "text/plain": [
       "{'Problem': [{'Name': 'unknown', 'Lower bound': 5.625, 'Upper bound': 5.625, 'Number of objectives': 1, 'Number of constraints': 3, 'Number of variables': 3, 'Number of nonzeros': 2, 'Sense': 'minimize'}], 'Solver': [{'Status': 'ok', 'User time': -1.0, 'System time': 0.0, 'Wallclock time': 0.0, 'Termination condition': 'optimal', 'Termination message': 'Model was solved to optimality (subject to tolerances), and an optimal solution is available.', 'Statistics': {'Branch and bound': {'Number of bounded subproblems': None, 'Number of created subproblems': None}, 'Black box': {'Number of iterations': 2}}, 'Error rc': 0, 'Time': 0.038277387619018555}], 'Solution': [OrderedDict([('number of solutions', 0), ('number of solutions displayed', 0)])]}"
      ]
     },
     "execution_count": 7,
     "metadata": {},
     "output_type": "execute_result"
    }
   ],
   "source": [
    "lp.solve(m2)"
   ]
  },
  {
   "cell_type": "code",
   "execution_count": 8,
   "metadata": {},
   "outputs": [],
   "source": [
    "sm = ConcreteModel()"
   ]
  },
  {
   "cell_type": "code",
   "execution_count": 9,
   "metadata": {},
   "outputs": [],
   "source": [
    "sm.block1 = Block()\n",
    "sm.block1.m1 = m1\n",
    "sm.block2 = Block()\n",
    "sm.block1.m2 = m2"
   ]
  },
  {
   "cell_type": "code",
   "execution_count": 10,
   "metadata": {},
   "outputs": [
    {
     "ename": "RuntimeError",
     "evalue": "Re-assigning the component 'm1' from block 'block1' to\nblock 'unknown' as 'm1'.\n\nThis behavior is not supported by Pyomo; components must have a\nsingle owning block (or model), and a component may not appear\nmultiple times in a block.  If you want to re-name or move this\ncomponent, use the block del_component() and add_component() methods.\n",
     "output_type": "error",
     "traceback": [
      "\u001b[1;31m---------------------------------------------------------------------------\u001b[0m",
      "\u001b[1;31mRuntimeError\u001b[0m                              Traceback (most recent call last)",
      "Cell \u001b[1;32mIn[10], line 1\u001b[0m\n\u001b[1;32m----> 1\u001b[0m \u001b[39msetattr\u001b[39;49m(sm, \u001b[39m'\u001b[39;49m\u001b[39mm1\u001b[39;49m\u001b[39m'\u001b[39;49m, m1)\n\u001b[0;32m      2\u001b[0m \u001b[39msetattr\u001b[39m(sm, \u001b[39m'\u001b[39m\u001b[39mm2\u001b[39m\u001b[39m'\u001b[39m, m2)\n",
      "File \u001b[1;32mc:\\Python310\\lib\\site-packages\\pyomo\\core\\base\\block.py:649\u001b[0m, in \u001b[0;36m_BlockData.__setattr__\u001b[1;34m(self, name, val)\u001b[0m\n\u001b[0;32m    644\u001b[0m \u001b[39mif\u001b[39;00m name \u001b[39mnot\u001b[39;00m \u001b[39min\u001b[39;00m \u001b[39mself\u001b[39m\u001b[39m.\u001b[39m\u001b[39m__dict__\u001b[39m:\n\u001b[0;32m    645\u001b[0m     \u001b[39mif\u001b[39;00m \u001b[39misinstance\u001b[39m(val, Component):\n\u001b[0;32m    646\u001b[0m         \u001b[39m#\u001b[39;00m\n\u001b[0;32m    647\u001b[0m         \u001b[39m# Pyomo components are added with the add_component method.\u001b[39;00m\n\u001b[0;32m    648\u001b[0m         \u001b[39m#\u001b[39;00m\n\u001b[1;32m--> 649\u001b[0m         \u001b[39mself\u001b[39;49m\u001b[39m.\u001b[39;49madd_component(name, val)\n\u001b[0;32m    650\u001b[0m     \u001b[39melse\u001b[39;00m:\n\u001b[0;32m    651\u001b[0m         \u001b[39m#\u001b[39;00m\n\u001b[0;32m    652\u001b[0m         \u001b[39m# Other Python objects are added with the standard __setattr__\u001b[39;00m\n\u001b[0;32m    653\u001b[0m         \u001b[39m# method.\u001b[39;00m\n\u001b[0;32m    654\u001b[0m         \u001b[39m#\u001b[39;00m\n\u001b[0;32m    655\u001b[0m         \u001b[39msuper\u001b[39m(_BlockData, \u001b[39mself\u001b[39m)\u001b[39m.\u001b[39m\u001b[39m__setattr__\u001b[39m(name, val)\n",
      "File \u001b[1;32mc:\\Python310\\lib\\site-packages\\pyomo\\core\\base\\block.py:1082\u001b[0m, in \u001b[0;36m_BlockData.add_component\u001b[1;34m(self, name, val)\u001b[0m\n\u001b[0;32m   1076\u001b[0m             \u001b[39melse\u001b[39;00m:\n\u001b[0;32m   1077\u001b[0m                 msg \u001b[39m=\u001b[39m \u001b[39m\"\"\"\u001b[39m\n\u001b[0;32m   1078\u001b[0m \u001b[39mRe-assigning the component \u001b[39m\u001b[39m'\u001b[39m\u001b[39m%s\u001b[39;00m\u001b[39m'\u001b[39m\u001b[39m from block \u001b[39m\u001b[39m'\u001b[39m\u001b[39m%s\u001b[39;00m\u001b[39m'\u001b[39m\u001b[39m to\u001b[39m\n\u001b[0;32m   1079\u001b[0m \u001b[39mblock \u001b[39m\u001b[39m'\u001b[39m\u001b[39m%s\u001b[39;00m\u001b[39m'\u001b[39m\u001b[39m as \u001b[39m\u001b[39m'\u001b[39m\u001b[39m%s\u001b[39;00m\u001b[39m'\u001b[39m\u001b[39m.\u001b[39m\u001b[39m\"\"\"\u001b[39m \u001b[39m%\u001b[39m (val\u001b[39m.\u001b[39m_name, val\u001b[39m.\u001b[39m_parent()\u001b[39m.\u001b[39mname,\n\u001b[0;32m   1080\u001b[0m                           \u001b[39mself\u001b[39m\u001b[39m.\u001b[39mname, name)\n\u001b[1;32m-> 1082\u001b[0m             \u001b[39mraise\u001b[39;00m \u001b[39mRuntimeError\u001b[39;00m(\u001b[39m\"\"\"\u001b[39m\u001b[39m%s\u001b[39;00m\n\u001b[0;32m   1083\u001b[0m \n\u001b[0;32m   1084\u001b[0m \u001b[39mThis behavior is not supported by Pyomo; components must have a\u001b[39m\n\u001b[0;32m   1085\u001b[0m \u001b[39msingle owning block (or model), and a component may not appear\u001b[39m\n\u001b[0;32m   1086\u001b[0m \u001b[39mmultiple times in a block.  If you want to re-name or move this\u001b[39m\n\u001b[0;32m   1087\u001b[0m \u001b[39mcomponent, use the block del_component() and add_component() methods.\u001b[39m\n\u001b[0;32m   1088\u001b[0m \u001b[39m\"\"\"\u001b[39m \u001b[39m%\u001b[39m (msg\u001b[39m.\u001b[39mstrip(),))\n\u001b[0;32m   1089\u001b[0m         \u001b[39m#\u001b[39;00m\n\u001b[0;32m   1090\u001b[0m         \u001b[39m# If the new component is a Block, then there is the chance that\u001b[39;00m\n\u001b[0;32m   1091\u001b[0m         \u001b[39m# it is the model(), and assigning it would create a circular\u001b[39;00m\n\u001b[1;32m   (...)\u001b[0m\n\u001b[0;32m   1094\u001b[0m         \u001b[39m# the block hierarchy\u001b[39;00m\n\u001b[0;32m   1095\u001b[0m         \u001b[39m#\u001b[39;00m\n\u001b[0;32m   1096\u001b[0m         \u001b[39mif\u001b[39;00m \u001b[39misinstance\u001b[39m(val, Block) \u001b[39mand\u001b[39;00m val \u001b[39mis\u001b[39;00m \u001b[39mself\u001b[39m\u001b[39m.\u001b[39mmodel():\n",
      "\u001b[1;31mRuntimeError\u001b[0m: Re-assigning the component 'm1' from block 'block1' to\nblock 'unknown' as 'm1'.\n\nThis behavior is not supported by Pyomo; components must have a\nsingle owning block (or model), and a component may not appear\nmultiple times in a block.  If you want to re-name or move this\ncomponent, use the block del_component() and add_component() methods.\n"
     ]
    }
   ],
   "source": [
    "setattr(sm, 'm1', m1)\n",
    "setattr(sm, 'm2', m2)"
   ]
  },
  {
   "cell_type": "code",
   "execution_count": 11,
   "metadata": {},
   "outputs": [
    {
     "data": {
      "text/plain": [
       "{'Problem': [{'Name': 'unknown', 'Lower bound': 13.5, 'Upper bound': 13.5, 'Number of objectives': 1, 'Number of constraints': 5, 'Number of variables': 5, 'Number of nonzeros': 2, 'Sense': 'minimize'}], 'Solver': [{'Status': 'ok', 'User time': -1.0, 'System time': 0.01, 'Wallclock time': 0.01, 'Termination condition': 'optimal', 'Termination message': 'Model was solved to optimality (subject to tolerances), and an optimal solution is available.', 'Statistics': {'Branch and bound': {'Number of bounded subproblems': None, 'Number of created subproblems': None}, 'Black box': {'Number of iterations': 2}}, 'Error rc': 0, 'Time': 0.042986392974853516}], 'Solution': [OrderedDict([('number of solutions', 0), ('number of solutions displayed', 0)])]}"
      ]
     },
     "execution_count": 11,
     "metadata": {},
     "output_type": "execute_result"
    }
   ],
   "source": [
    "m2.obj.deactivate()\n",
    "lp.solve(sm)"
   ]
  },
  {
   "cell_type": "code",
   "execution_count": 13,
   "metadata": {},
   "outputs": [],
   "source": [
    "sm.obj = Objective(expr=(0.2 * m1.obj.expr + 0.3 * m2.obj.expr))"
   ]
  },
  {
   "cell_type": "code",
   "execution_count": 14,
   "metadata": {},
   "outputs": [],
   "source": [
    "m1.obj.deactivate()"
   ]
  },
  {
   "cell_type": "code",
   "execution_count": 15,
   "metadata": {},
   "outputs": [
    {
     "data": {
      "text/plain": [
       "{'Problem': [{'Name': 'unknown', 'Lower bound': 4.3875, 'Upper bound': 4.3875, 'Number of objectives': 1, 'Number of constraints': 5, 'Number of variables': 5, 'Number of nonzeros': 4, 'Sense': 'minimize'}], 'Solver': [{'Status': 'ok', 'User time': -1.0, 'System time': 0.01, 'Wallclock time': 0.0, 'Termination condition': 'optimal', 'Termination message': 'Model was solved to optimality (subject to tolerances), and an optimal solution is available.', 'Statistics': {'Branch and bound': {'Number of bounded subproblems': None, 'Number of created subproblems': None}, 'Black box': {'Number of iterations': 4}}, 'Error rc': 0, 'Time': 0.04224348068237305}], 'Solution': [OrderedDict([('number of solutions', 0), ('number of solutions displayed', 0)])]}"
      ]
     },
     "execution_count": 15,
     "metadata": {},
     "output_type": "execute_result"
    }
   ],
   "source": [
    "lp.solve(sm)"
   ]
  },
  {
   "cell_type": "code",
   "execution_count": 12,
   "metadata": {},
   "outputs": [
    {
     "data": {
      "text/plain": [
       "(0.5, 3.0, 2.0, 0.0)"
      ]
     },
     "execution_count": 12,
     "metadata": {},
     "output_type": "execute_result"
    }
   ],
   "source": [
    "m1.x1(), m1.x2(), m2.x1(), m2.x2()"
   ]
  },
  {
   "cell_type": "code",
   "execution_count": null,
   "metadata": {},
   "outputs": [],
   "source": []
  }
 ],
 "metadata": {
  "kernelspec": {
   "display_name": "Python 3",
   "language": "python",
   "name": "python3"
  },
  "language_info": {
   "codemirror_mode": {
    "name": "ipython",
    "version": 3
   },
   "file_extension": ".py",
   "mimetype": "text/x-python",
   "name": "python",
   "nbconvert_exporter": "python",
   "pygments_lexer": "ipython3",
   "version": "3.10.6"
  },
  "orig_nbformat": 4
 },
 "nbformat": 4,
 "nbformat_minor": 2
}
